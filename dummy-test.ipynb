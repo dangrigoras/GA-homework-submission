{
 "cells": [
  {
   "cell_type": "code",
   "execution_count": 24,
   "metadata": {
    "collapsed": false
   },
   "outputs": [
    {
     "name": "stdout",
     "output_type": "stream",
     "text": [
      "[]\n"
     ]
    }
   ],
   "source": [
    "# 1. How do you create an empty list named 'mylist'?\n",
    "\n",
    "mylist = []\n",
    "mylist = list()\n",
    "print(mylist)"
   ]
  },
  {
   "cell_type": "code",
   "execution_count": 25,
   "metadata": {
    "collapsed": false,
    "scrolled": true
   },
   "outputs": [
    {
     "data": {
      "text/plain": [
       "True"
      ]
     },
     "execution_count": 25,
     "metadata": {},
     "output_type": "execute_result"
    }
   ],
   "source": [
    "# 2. What will the following code return? 5 > 3 or 5  < 3\n",
    "\n",
    "5 > 3 or 5  < 3"
   ]
  },
  {
   "cell_type": "code",
   "execution_count": 26,
   "metadata": {
    "collapsed": false
   },
   "outputs": [
    {
     "data": {
      "text/plain": [
       "[0, 1, 2, 3, 4, 5, 6, 7, 8, 9]"
      ]
     },
     "execution_count": 26,
     "metadata": {},
     "output_type": "execute_result"
    }
   ],
   "source": [
    "# 3. What will be stored in the 'nums' object? nums = range(10)\n",
    "\n",
    "nums = range(10)\n",
    "nums"
   ]
  },
  {
   "cell_type": "code",
   "execution_count": 27,
   "metadata": {
    "collapsed": false
   },
   "outputs": [
    {
     "data": {
      "text/plain": [
       "10"
      ]
     },
     "execution_count": 27,
     "metadata": {},
     "output_type": "execute_result"
    }
   ],
   "source": [
    "# 4. How do you check the type and the length of the 'nums' object?\n",
    "\n",
    "len(nums)"
   ]
  },
  {
   "cell_type": "code",
   "execution_count": 35,
   "metadata": {
    "collapsed": false
   },
   "outputs": [
    {
     "data": {
      "text/plain": [
       "'dan'"
      ]
     },
     "execution_count": 35,
     "metadata": {},
     "output_type": "execute_result"
    }
   ],
   "source": [
    "# 5. How do you return the last number in the 'nums' object?\n",
    "\n",
    "nums[9]\n",
    "nums[10-1]\n",
    "nums[-1]\n",
    "\n",
    "## why does nums[-1] also return the last element?\n",
    "## because it does.... and nums[-2] would return the second to last, and so on...\n",
    "\n",
    "nums2 = range(15)\n",
    "string = \"hello this is a test string saying that my name is dan grigoras\"\n",
    "words = string.split()\n",
    "words[-2]"
   ]
  },
  {
   "cell_type": "code",
   "execution_count": 45,
   "metadata": {
    "collapsed": false
   },
   "outputs": [
    {
     "data": {
      "text/plain": [
       "[2, 3, 4]"
      ]
     },
     "execution_count": 45,
     "metadata": {},
     "output_type": "execute_result"
    }
   ],
   "source": [
    "# 6. Slice the 'nums' object to return a list with the numbers 2, 3, 4.\n",
    "\n",
    "nums[2:5]"
   ]
  },
  {
   "cell_type": "code",
   "execution_count": 86,
   "metadata": {
    "collapsed": false
   },
   "outputs": [
    {
     "name": "stdout",
     "output_type": "stream",
     "text": [
      "this is nums range(10): \t\t\t[0, 1, 2, 3, 4, 5, 6, 7, 8, 9]\n",
      "this is after appending 10, append(10): \t[0, 1, 2, 3, 4, 5, 6, 7, 8, 9, 10]\n",
      "this is using the + to add nums+11: \t\t[0, 1, 2, 3, 4, 5, 6, 7, 8, 9, 10, 11]\n",
      "notice that nums doesn't actually change:\t[0, 1, 2, 3, 4, 5, 6, 7, 8, 9, 10]\n"
     ]
    }
   ],
   "source": [
    "# 7. What is the difference between 'nums.append(10)' and 'nums + [10]'?\n",
    "\n",
    "nums = []\n",
    "nums = range(10)\n",
    "print \"this is nums range(10): \\t\\t\\t\", nums\n",
    "\n",
    "nums.append(10)\n",
    "# adds an element to the end of list nums\n",
    "print \"this is after appending 10, append(10): \\t\",nums # did not add an element\n",
    "\n",
    "print \"this is using the + to add nums+11: \\t\\t\", nums+[11]\n",
    "print \"notice that nums doesn't actually change:\\t\", nums\n",
    "# adds the number 11 to the print, but not to the list nums\n"
   ]
  },
  {
   "cell_type": "code",
   "execution_count": 92,
   "metadata": {
    "collapsed": false
   },
   "outputs": [
    {
     "name": "stdout",
     "output_type": "stream",
     "text": [
      "1\n",
      "1.5\n"
     ]
    }
   ],
   "source": [
    "# 8. How do you divide 3 by 2 and get a result of 1.5?\n",
    "\n",
    "print(3 / 2)\n",
    "print(3 / 2.)"
   ]
  },
  {
   "cell_type": "code",
   "execution_count": 96,
   "metadata": {
    "collapsed": false
   },
   "outputs": [
    {
     "data": {
      "text/plain": [
       "33.0"
      ]
     },
     "execution_count": 96,
     "metadata": {},
     "output_type": "execute_result"
    }
   ],
   "source": [
    "# 9. Import the 'math' module, and then use its 'sqrt' function to calculate the square root of 1089\n",
    "\n",
    "import math\n",
    "math.sqrt(1089)"
   ]
  },
  {
   "cell_type": "code",
   "execution_count": 118,
   "metadata": {
    "collapsed": false
   },
   "outputs": [
    {
     "data": {
      "text/plain": [
       "True"
      ]
     },
     "execution_count": 118,
     "metadata": {},
     "output_type": "execute_result"
    }
   ],
   "source": [
    "# 10. What type of object is created by this code? d = {'a':10, 'b':20, 'c':30}\n",
    "\n",
    "\n",
    "d = {'a':10, 'b':20, 'c':30}\n",
    "type(d) == dict    #  a dictionary"
   ]
  },
  {
   "cell_type": "code",
   "execution_count": 119,
   "metadata": {
    "collapsed": false
   },
   "outputs": [],
   "source": [
    "# 11. In the 'd' object, what are 'a', 'b', and 'c' called? What are 10, 20, and 30 called?\t\n",
    "\n",
    "# a, b, c are    \"keys\"\n",
    "# 10, 20, 30 are \"values\""
   ]
  },
  {
   "cell_type": "code",
   "execution_count": 120,
   "metadata": {
    "collapsed": false
   },
   "outputs": [
    {
     "data": {
      "text/plain": [
       "10"
      ]
     },
     "execution_count": 120,
     "metadata": {},
     "output_type": "execute_result"
    }
   ],
   "source": [
    "# 12. How do you return the 10 from the 'd' object?\n",
    "\n",
    "d['a']"
   ]
  },
  {
   "cell_type": "code",
   "execution_count": 121,
   "metadata": {
    "collapsed": false
   },
   "outputs": [
    {
     "data": {
      "text/plain": [
       "{'a': 10, 'b': 20, 'c': 40}"
      ]
     },
     "execution_count": 121,
     "metadata": {},
     "output_type": "execute_result"
    }
   ],
   "source": [
    "# 13. How do you change the 30 to a 40 in the 'd' object?\n",
    "\n",
    "d['c'] = 40\n",
    "\n",
    "d"
   ]
  },
  {
   "cell_type": "code",
   "execution_count": 122,
   "metadata": {
    "collapsed": false
   },
   "outputs": [
    {
     "data": {
      "text/plain": [
       "'VA'"
      ]
     },
     "execution_count": 122,
     "metadata": {},
     "output_type": "execute_result"
    }
   ],
   "source": [
    "# 14. From the 'people' object, return Brandon's state only: \n",
    "people = {'Alice': ['Washington', 'DC'], 'Brandon': ['Arlington', 'VA']}\n",
    "\n",
    "people['Brandon'][1]"
   ]
  },
  {
   "cell_type": "code",
   "execution_count": 123,
   "metadata": {
    "collapsed": false
   },
   "outputs": [
    {
     "data": {
      "text/plain": [
       "12"
      ]
     },
     "execution_count": 123,
     "metadata": {},
     "output_type": "execute_result"
    }
   ],
   "source": [
    "# 15. Define a function 'calc' that takes two variables, 'a' and 'b', and returns their sum.\n",
    "\n",
    "def calc(a, b):\n",
    "    return a + b\n",
    "\n",
    "calc(5, 7)"
   ]
  },
  {
   "cell_type": "code",
   "execution_count": 133,
   "metadata": {
    "collapsed": false
   },
   "outputs": [
    {
     "name": "stdout",
     "output_type": "stream",
     "text": [
      "5\n",
      "7\n",
      "13\n",
      "29\n",
      "1.767 seconds\n"
     ]
    }
   ],
   "source": [
    "# 16. The prime factors of 13195 are 5, 7, 13 and 29.  \n",
    "# SUPER SLOW\n",
    "\n",
    "from datetime import datetime\n",
    "\n",
    "def isPrime(p):\n",
    "    for i in range(2,p):\n",
    "        if p%i == 0: return False\n",
    "    return True\n",
    "\n",
    "now = datetime.now()\n",
    "num = 13195\n",
    "for i in range(2,num):\n",
    "    if isPrime(i) and num % i == 0: print i\n",
    "print (datetime.now() - now).total_seconds(), \"seconds\""
   ]
  },
  {
   "cell_type": "code",
   "execution_count": 134,
   "metadata": {
    "collapsed": false
   },
   "outputs": [
    {
     "name": "stdout",
     "output_type": "stream",
     "text": [
      "set([29, 13, 5, 7]) 0.0 seconds\n"
     ]
    }
   ],
   "source": [
    "# WOAH SUPER FAST\n",
    "now = datetime.now()\n",
    "num = 13195\n",
    "i = 2\n",
    "primes = set()\n",
    "while num != 1:\n",
    "    while num%i==0: \n",
    "        primes.add(i)\n",
    "        num /= i\n",
    "    i+=1\n",
    "primes\n",
    "print primes, (datetime.now() - now).total_seconds(), \"seconds\""
   ]
  }
 ],
 "metadata": {
  "anaconda-cloud": {},
  "kernelspec": {
   "display_name": "Python [Root]",
   "language": "python",
   "name": "Python [Root]"
  },
  "language_info": {
   "codemirror_mode": {
    "name": "ipython",
    "version": 2
   },
   "file_extension": ".py",
   "mimetype": "text/x-python",
   "name": "python",
   "nbconvert_exporter": "python",
   "pygments_lexer": "ipython2",
   "version": "2.7.12"
  }
 },
 "nbformat": 4,
 "nbformat_minor": 0
}
